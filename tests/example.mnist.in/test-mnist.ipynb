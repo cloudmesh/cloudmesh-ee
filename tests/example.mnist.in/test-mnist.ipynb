{
 "cells": [
  {
   "cell_type": "code",
   "execution_count": null,
   "metadata": {
    "collapsed": true,
    "pycharm": {
     "name": "#%%\n"
    }
   },
   "outputs": [],
   "source": []
  },
  {
   "cell_type": "code",
   "execution_count": null,
   "outputs": [],
   "source": [
    "import tensorflow as tf\n",
    "from pprint import pprint\n",
    "from cloudmesh.common.StopWatch import StopWatch\n",
    "from cloudmesh.common.util import banner\n",
    "\n",
    "print(\"Num GPUs Available: \", len(tf.config.list_physical_devices('GPU')))\n",
    "gpus = tf.config.list_logical_devices('GPU')\n",
    "\n",
    "pprint(gpus)\n",
    "\n",
    "mnist = tf.keras.datasets.mnist\n",
    "\n",
    "device = f'/device:GPU:0'\n",
    "device = f'/GPU:0'\n",
    "device = f'/physical_device:GPU:0'\n",
    "device = gpus[0].name\n",
    "\n",
    "verbose = 0\n",
    "\n",
    "with tf.device(device):\n",
    "    StopWatch.start(\"total\")\n",
    "    banner(\"start mnist\")\n",
    "    with tf.device(device):\n",
    "        StopWatch.start(\"load\")\n",
    "        (x_train, y_train), (x_test, y_test) = mnist.load_data()\n",
    "        x_train, x_test = x_train / 255.0, x_test / 255.0\n",
    "        StopWatch.stop(\"load\")\n",
    "\n",
    "        StopWatch.start(\"model\")\n",
    "        model = tf.keras.models.Sequential([\n",
    "            tf.keras.layers.Flatten(),\n",
    "            tf.keras.layers.Dense(512, activation=tf.nn.relu),\n",
    "            tf.keras.layers.Dropout(0.2),\n",
    "            tf.keras.layers.Dense(10, activation=tf.nn.softmax)\n",
    "        ])\n",
    "        StopWatch.stop(\"model\")\n",
    "\n",
    "        StopWatch.start(\"compile\")\n",
    "        model.compile(optimizer='adam',\n",
    "                      loss='sparse_categorical_crossentropy',\n",
    "                      metrics=['accuracy'])\n",
    "        StopWatch.stop(\"compile\")\n",
    "\n",
    "        StopWatch.start(\"fit\")\n",
    "        model.fit(x_train, y_train, epochs=5, verbose=verbose)\n",
    "        StopWatch.stop(\"fit\")\n",
    "\n",
    "        StopWatch.start(\"evaluate\")\n",
    "        model.evaluate(x_test, y_test, verbose=verbose)\n",
    "        StopWatch.stop(\"evaluate\")\n",
    "\n",
    "    StopWatch.stop(\"total\")\n",
    "    StopWatch.benchmark()\n",
    "\n"
   ],
   "metadata": {
    "collapsed": false,
    "pycharm": {
     "name": "#%%\n"
    }
   }
  }
 ],
 "metadata": {
  "kernelspec": {
   "display_name": "Python 3",
   "language": "python",
   "name": "python3"
  },
  "language_info": {
   "codemirror_mode": {
    "name": "ipython",
    "version": 2
   },
   "file_extension": ".py",
   "mimetype": "text/x-python",
   "name": "python",
   "nbconvert_exporter": "python",
   "pygments_lexer": "ipython2",
   "version": "2.7.6"
  }
 },
 "nbformat": 4,
 "nbformat_minor": 0
}